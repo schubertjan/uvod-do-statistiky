{
 "cells": [
  {
   "cell_type": "code",
   "execution_count": 1,
   "id": "4490b595",
   "metadata": {},
   "outputs": [],
   "source": [
    "import pandas as pd\n",
    "import numpy as np\n",
    "from sklearn.ensemble import RandomForestClassifier, VotingClassifier\n",
    "from sklearn.linear_model import LogisticRegression\n",
    "from sklearn.naive_bayes import GaussianNB\n",
    "from sklearn.model_selection import cross_val_score, train_test_split, GridSearchCV\n",
    "from sklearn.metrics import confusion_matrix"
   ]
  },
  {
   "cell_type": "code",
   "execution_count": 2,
   "id": "550b518b",
   "metadata": {},
   "outputs": [],
   "source": [
    "d = pd.read_csv(\"../dats/battleship.csv\")\n",
    "d[d > 0] = 1"
   ]
  },
  {
   "cell_type": "code",
   "execution_count": 3,
   "id": "61e359dc",
   "metadata": {
    "scrolled": true
   },
   "outputs": [],
   "source": [
    "# create all combs\n",
    "xx, yy = np.meshgrid(\n",
    "    np.array([\"A\", \"B\", \"C\", \"D\", \"E\", \"F\", \"G\", \"H\"]),\n",
    "    np.array([1, 2, 3, 4, 5, 6, 7, 8]),\n",
    "    indexing=\"ij\")\n",
    "# create labels\n",
    "labs = np.empty(xx.shape[0] * xx.shape[1], \n",
    "                dtype = \"U2\").reshape(xx.shape)\n",
    "for i in range(xx.shape[0]):\n",
    "    for j in range(xx.shape[1]):\n",
    "        labs[i, j] = xx[i,j] + str(yy[i, j])\n",
    "labs = labs.flatten()"
   ]
  },
  {
   "cell_type": "code",
   "execution_count": 4,
   "id": "7bcecfee",
   "metadata": {
    "scrolled": true
   },
   "outputs": [],
   "source": [
    "# # NOT RUN:\n",
    "# y = d.loc[:, \"D2\"].values\n",
    "# X = d.drop(\"D2\", axis = 1).values\n",
    "# par_grid = [\n",
    "#     {\"n_neighbors\": [3, 5, 7, 10, 15]}\n",
    "# ]\n",
    "# m = KNeighborsClassifier()\n",
    "# gs_cv = GridSearchCV(m, par_grid, \n",
    "#                      cv=5, \n",
    "#                      return_train_score=True,\n",
    "#                      n_jobs=-4)\n",
    "# gs_cv.fit(X, y)"
   ]
  },
  {
   "cell_type": "code",
   "execution_count": 5,
   "id": "c024fbf1",
   "metadata": {},
   "outputs": [],
   "source": [
    "mods = {}\n",
    "for lab in labs:\n",
    "    # select data\n",
    "    y = d.loc[:, lab].values\n",
    "    X = d.drop(lab, axis = 1).values\n",
    "    # fit a model\n",
    "    rfc = RandomForestClassifier(max_features=\"sqrt\", \n",
    "                                 max_depth=None, \n",
    "                                 min_samples_split=2,\n",
    "                                 n_estimators=100,\n",
    "                                n_jobs=3)\n",
    "    \n",
    "    lgr = LogisticRegression(n_jobs=3)\n",
    "    gnb = GaussianNB()\n",
    "    clf = VotingClassifier(\n",
    "        estimators=[(\"rfc\", rfc), (\"lgr\", lgr), (\"gnb\", gnb)],\n",
    "        voting=\"soft\",\n",
    "        n_jobs=-4\n",
    "    )\n",
    "    clf.fit(X, y)\n",
    "    # store\n",
    "    mods[lab] = clf\n",
    "    "
   ]
  },
  {
   "cell_type": "code",
   "execution_count": null,
   "id": "05e3f938",
   "metadata": {},
   "outputs": [],
   "source": [
    "# import pickle\n",
    "# with open(\"mods.pickle\", \"wb\") as f:\n",
    "#    pickle.dump(mods, f, protocol=5)"
   ]
  },
  {
   "cell_type": "code",
   "execution_count": 23,
   "id": "32a6ead8",
   "metadata": {},
   "outputs": [
    {
     "data": {
      "text/plain": [
       "C2    0.844224\n",
       "H4    0.838029\n",
       "G2    0.822891\n",
       "B6    0.800958\n",
       "H1    0.729948\n",
       "C7    0.701830\n",
       "C5    0.688613\n",
       "G5    0.622534\n",
       "H7    0.581276\n",
       "B1    0.546075\n",
       "B7    0.492469\n",
       "H5    0.468128\n",
       "F3    0.459711\n",
       "F4    0.435185\n",
       "D4    0.434195\n",
       "D6    0.430736\n",
       "D3    0.425165\n",
       "F6    0.399840\n",
       "E4    0.378688\n",
       "E3    0.363890\n",
       "dtype: float64"
      ]
     },
     "execution_count": 23,
     "metadata": {},
     "output_type": "execute_result"
    }
   ],
   "source": [
    "board=np.array(\n",
    "    #1,2,3,4,5,6,7,8\n",
    "    [0,0,0,0,0,0,0,0, #A\n",
    "     0,1,1,1,1,0,0,0, #B\n",
    "     0,0,0,0,0,0,0,0, #C\n",
    "     0,1,0,0,1,0,1,0, #D\n",
    "     0,1,0,0,1,0,1,0, #E\n",
    "     0,1,0,0,1,0,1,0, #F\n",
    "     0,0,0,0,0,0,1,0, #G\n",
    "     0,1,1,0,0,0,0,0] #H\n",
    ")\n",
    "\n",
    "to_predict = labs[board == 0]\n",
    "pred_prob = {}\n",
    "for lab in to_predict:\n",
    "    i = np.where(labs != lab)\n",
    "    X_ = board[i]\n",
    "    pred_prob[lab] = mods[lab].predict_proba(X_.reshape(1,-1))[0][1]\n",
    "\n",
    "pd.Series(pred_prob).sort_values(ascending=False).head(20)"
   ]
  },
  {
   "cell_type": "code",
   "execution_count": null,
   "id": "9720a2a5",
   "metadata": {},
   "outputs": [],
   "source": []
  }
 ],
 "metadata": {
  "kernelspec": {
   "display_name": "Python 3.7.11 64-bit ('cuni': conda)",
   "language": "python",
   "name": "python3711jvsc74a57bd0e5b9e98918b9f20dd0e4647ee74601e42b6efee1424c33c9aec3e0d6fabb5b5f"
  },
  "language_info": {
   "codemirror_mode": {
    "name": "ipython",
    "version": 3
   },
   "file_extension": ".py",
   "mimetype": "text/x-python",
   "name": "python",
   "nbconvert_exporter": "python",
   "pygments_lexer": "ipython3",
   "version": "3.10.2"
  }
 },
 "nbformat": 4,
 "nbformat_minor": 5
}
